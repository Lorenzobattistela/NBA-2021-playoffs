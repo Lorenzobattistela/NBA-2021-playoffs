{
    "cells": [
        {
            "cell_type": "code",
            "execution_count": 2,
            "source": [
                "import pandas as pd"
            ],
            "outputs": [],
            "metadata": {}
        },
        {
            "cell_type": "code",
            "execution_count": 3,
            "source": [
                "data = pd.read_html('https://basketball.realgm.com/nba/stats/2021/Averages/Qualified/points/All/desc/1/Playoffs')\r\n",
                "data[0].to_csv('playoffs.csv', index=False)"
            ],
            "outputs": [],
            "metadata": {}
        },
        {
            "cell_type": "code",
            "execution_count": 11,
            "source": [
                "dados = pd.read_csv('playoffs.csv')\r\n",
                "list(dados['Team'].drop_duplicates())"
            ],
            "outputs": [
                {
                    "output_type": "execute_result",
                    "data": {
                        "text/plain": [
                            "['DAL',\n",
                            " 'POR',\n",
                            " 'BRK',\n",
                            " 'UTA',\n",
                            " 'BOS',\n",
                            " 'LAC',\n",
                            " 'MEM',\n",
                            " 'MIL',\n",
                            " 'WAS',\n",
                            " 'DEN',\n",
                            " 'ATL',\n",
                            " 'PHI',\n",
                            " 'PHX',\n",
                            " 'LAC',\n",
                            " 'MEM',\n",
                            " 'MIL',\n",
                            " 'LAL',\n",
                            " 'BRK',\n",
                            " 'PHI',\n",
                            " 'POR',\n",
                            " 'BRK',\n",
                            " 'NYK',\n",
                            " 'PHX',\n",
                            " 'WAS',\n",
                            " 'PHI',\n",
                            " 'UTA',\n",
                            " 'NYK',\n",
                            " 'BOS',\n",
                            " 'LAC',\n",
                            " 'UTA',\n",
                            " 'DEN',\n",
                            " 'LAL',\n",
                            " 'MIL',\n",
                            " 'POR',\n",
                            " 'DAL',\n",
                            " 'DEN',\n",
                            " 'MIA',\n",
                            " 'PHX',\n",
                            " 'MIA',\n",
                            " 'BOS',\n",
                            " 'UTA',\n",
                            " 'MEM',\n",
                            " 'WAS',\n",
                            " 'UTA',\n",
                            " 'MIA',\n",
                            " 'NYK',\n",
                            " 'LAL',\n",
                            " 'ATL',\n",
                            " 'NYK',\n",
                            " 'ATL',\n",
                            " 'DEN',\n",
                            " 'MEM',\n",
                            " 'POR',\n",
                            " 'DAL',\n",
                            " 'MIL',\n",
                            " 'ATL',\n",
                            " 'ATL',\n",
                            " 'BOS',\n",
                            " 'POR',\n",
                            " 'LAC',\n",
                            " 'PHI',\n",
                            " 'WAS',\n",
                            " 'DAL',\n",
                            " 'UTA',\n",
                            " 'BRK',\n",
                            " 'DEN',\n",
                            " 'PHX',\n",
                            " 'ATL',\n",
                            " 'ATL',\n",
                            " 'PHX',\n",
                            " 'BOS',\n",
                            " 'DAL',\n",
                            " 'MIA',\n",
                            " 'MIA',\n",
                            " 'UTA',\n",
                            " 'ATL',\n",
                            " 'POR',\n",
                            " 'PHX',\n",
                            " 'DEN',\n",
                            " 'MIA',\n",
                            " 'WAS',\n",
                            " 'DEN',\n",
                            " 'BRK',\n",
                            " 'LAL',\n",
                            " 'BOS',\n",
                            " 'MIL',\n",
                            " 'NYK',\n",
                            " 'MEM',\n",
                            " 'PHX',\n",
                            " 'BRK',\n",
                            " 'LAC',\n",
                            " 'DAL',\n",
                            " 'BRK',\n",
                            " 'ATL',\n",
                            " 'LAC',\n",
                            " 'WAS',\n",
                            " 'PHI',\n",
                            " 'PHI',\n",
                            " 'MIL',\n",
                            " 'WAS']"
                        ]
                    },
                    "metadata": {},
                    "execution_count": 11
                }
            ],
            "metadata": {}
        },
        {
            "cell_type": "code",
            "execution_count": 5,
            "source": [
                "dados.drop(['#'], inplace=True, axis=1)\r\n"
            ],
            "outputs": [],
            "metadata": {}
        },
        {
            "cell_type": "code",
            "execution_count": 6,
            "source": [
                "def findTeamStats(team_short, dados):\r\n",
                "    stats_index = dados['Team'] == team_short\r\n",
                "    stats = dados[stats_index]\r\n",
                "    stats.index = range(1, stats.shape[0] + 1)\r\n",
                "    return stats"
            ],
            "outputs": [],
            "metadata": {}
        },
        {
            "cell_type": "code",
            "execution_count": 7,
            "source": [
                "def findPlayerStats(name, dados):\r\n",
                "    index = dados['Player'] == name\r\n",
                "    stats = dados[index]\r\n",
                "    stats.index = range(1, stats.shape[0] + 1)\r\n",
                "    return stats"
            ],
            "outputs": [],
            "metadata": {}
        },
        {
            "cell_type": "code",
            "execution_count": 8,
            "source": [
                "def findTopStats(stat_short, dados):\r\n",
                "    stats = dados[['Player', stat_short]].sort_values(ascending=False, by=stat_short)\r\n",
                "    stats.index = range(1, stats.shape[0] + 1)\r\n",
                "    return stats.head(10)"
            ],
            "outputs": [],
            "metadata": {}
        },
        {
            "cell_type": "code",
            "execution_count": 9,
            "source": [
                "def orderByStat(stat_short, dados):\r\n",
                "    stats = dados.sort_values(ascending=False, by=stat_short)\r\n",
                "    stats.index = range(1, stats.shape[0] + 1)\r\n",
                "    return stats"
            ],
            "outputs": [],
            "metadata": {}
        },
        {
            "cell_type": "code",
            "execution_count": 10,
            "source": [
                "def comparePlayerStats(firstPlayer, secondPlayer, dados):\r\n",
                "    statsFirstPlayer = findPlayerStats(firstPlayer, dados)\r\n",
                "    statsSecondPlayer = findPlayerStats(secondPlayer, dados)\r\n",
                "    stats=statsFirstPlayer.compare(statsSecondPlayer)\r\n",
                "    return stats"
            ],
            "outputs": [],
            "metadata": {}
        },
        {
            "cell_type": "code",
            "execution_count": null,
            "source": [],
            "outputs": [],
            "metadata": {}
        }
    ],
    "metadata": {
        "orig_nbformat": 4,
        "language_info": {
            "name": "python",
            "version": "3.8.8",
            "mimetype": "text/x-python",
            "codemirror_mode": {
                "name": "ipython",
                "version": 3
            },
            "pygments_lexer": "ipython3",
            "nbconvert_exporter": "python",
            "file_extension": ".py"
        },
        "kernelspec": {
            "name": "python3",
            "display_name": "Python 3.8.8 64-bit ('base': conda)"
        },
        "interpreter": {
            "hash": "29e56ee277dde63556cc296384653afa8fd08a4c6e795952eeb84894c9c4810d"
        }
    },
    "nbformat": 4,
    "nbformat_minor": 2
}